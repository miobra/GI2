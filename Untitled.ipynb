{
 "cells": [
  {
   "cell_type": "code",
   "execution_count": 1,
   "metadata": {},
   "outputs": [
    {
     "name": "stdout",
     "output_type": "stream",
     "text": [
      "Requirement already satisfied: pysam in /opt/conda/lib/python3.8/site-packages (0.16.0.1)\n"
     ]
    }
   ],
   "source": [
    "import sys\n",
    "!{sys.executable} -m pip install pysam\n",
    "\n",
    "from pysam import AlignmentFile"
   ]
  },
  {
   "cell_type": "code",
   "execution_count": 2,
   "metadata": {},
   "outputs": [
    {
     "name": "stdout",
     "output_type": "stream",
     "text": [
      "17765\n"
     ]
    }
   ],
   "source": [
    "samfile = AlignmentFile(\"/sbgenomics/project-files/merged-tumor.bam\")\n",
    "\n",
    "total = 0\n",
    "for read in samfile:\n",
    "    if read.is_unmapped:\n",
    "        total = total + 1\n",
    "print(total) \n",
    "\n",
    "\n",
    "samfile.close()"
   ]
  },
  {
   "cell_type": "code",
   "execution_count": 3,
   "metadata": {},
   "outputs": [
    {
     "name": "stdout",
     "output_type": "stream",
     "text": [
      "2921629\n"
     ]
    }
   ],
   "source": [
    "samfile = AlignmentFile(\"/sbgenomics/project-files/merged-tumor.bam\")\n",
    "\n",
    "total = 0\n",
    "for read in samfile:\n",
    "    total = total + 1\n",
    "print(total)    \n",
    "\n",
    "samfile.close()"
   ]
  },
  {
   "cell_type": "code",
   "execution_count": 4,
   "metadata": {},
   "outputs": [
    {
     "name": "stdout",
     "output_type": "stream",
     "text": [
      "126628\n"
     ]
    }
   ],
   "source": [
    "samfile = AlignmentFile(\"/sbgenomics/project-files/merged-tumor.bam\")\n",
    "\n",
    "total = 0\n",
    "for read in samfile:\n",
    "    if read.mapping_quality == 0:\n",
    "        total = total + 1\n",
    "print(total) \n",
    "\n",
    "\n",
    "samfile.close()"
   ]
  },
  {
   "cell_type": "code",
   "execution_count": 5,
   "metadata": {},
   "outputs": [
    {
     "name": "stdout",
     "output_type": "stream",
     "text": [
      "55\n"
     ]
    }
   ],
   "source": [
    "samfile = AlignmentFile(\"/sbgenomics/project-files/merged-tumor.bam\")\n",
    "\n",
    "total = 0\n",
    "count = 0\n",
    "for read in samfile:\n",
    "    total = total + read.mapping_quality\n",
    "    count = count + 1\n",
    "print(total // count) \n",
    "\n",
    "samfile.close()"
   ]
  },
  {
   "cell_type": "code",
   "execution_count": 6,
   "metadata": {},
   "outputs": [
    {
     "name": "stdout",
     "output_type": "stream",
     "text": [
      "58\n"
     ]
    }
   ],
   "source": [
    "samfile = AlignmentFile(\"/sbgenomics/project-files/merged-tumor.bam\")\n",
    "\n",
    "total = 0\n",
    "count = 0\n",
    "for read in samfile:\n",
    "    if read.mapping_quality != 0:\n",
    "        total = total + read.mapping_quality\n",
    "        count = count + 1\n",
    "print(total // count) \n",
    "\n",
    "samfile.close()"
   ]
  },
  {
   "cell_type": "code",
   "execution_count": null,
   "metadata": {},
   "outputs": [],
   "source": []
  }
 ],
 "metadata": {
  "kernelspec": {
   "display_name": "Python 3",
   "language": "python",
   "name": "python3"
  },
  "language_info": {
   "codemirror_mode": {
    "name": "ipython",
    "version": 3
   },
   "file_extension": ".py",
   "mimetype": "text/x-python",
   "name": "python",
   "nbconvert_exporter": "python",
   "pygments_lexer": "ipython3",
   "version": "3.8.3"
  }
 },
 "nbformat": 4,
 "nbformat_minor": 4
}
